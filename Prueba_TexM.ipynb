{
 "cells": [
  {
   "cell_type": "code",
   "execution_count": 6,
   "id": "fe074cfd-601d-457a-a31c-39a933c3367a",
   "metadata": {},
   "outputs": [],
   "source": [
    "import os\n",
    "import re\n",
    "import sys\n",
    "import warnings\n",
    "import csv\n",
    "from sklearn.feature_extraction.text import CountVectorizer\n",
    "from sklearn.datasets import load_files\n",
    "from sklearn.feature_extraction.text import TfidfTransformer\n",
    "from sklearn.model_selection import train_test_split\n",
    "from sklearn.naive_bayes import MultinomialNB\n",
    "from sklearn.naive_bayes import BernoulliNB\n",
    "from sklearn.metrics import classification_report, confusion_matrix, accuracy_score\n",
    "\n",
    "\n",
    "import spacy\n",
    "import numpy as np\n",
    "import pandas as pd"
   ]
  },
  {
   "cell_type": "code",
   "execution_count": 7,
   "id": "da32616a-ef98-48da-9ce1-1d77ba9a64ec",
   "metadata": {},
   "outputs": [],
   "source": [
    "def basic_processing(X):\n",
    "    tweets = []\n",
    "\n",
    "    for sen in range(0, len(X)):\n",
    "        tweet = str(X[sen])\n",
    "        tweets.append(tweet)\n",
    "\n",
    "    return tweets"
   ]
  },
  {
   "cell_type": "code",
   "execution_count": 8,
   "id": "30c322b8-6e6b-4910-9dcc-8e205726ac7b",
   "metadata": {},
   "outputs": [
    {
     "name": "stdout",
     "output_type": "stream",
     "text": [
      "[['rechazo', 'a', 'opción', 'radical', 'grande', '🇪', '🇸', 'ElecccionesGenerales28A', '28a'], ['NotreDame', 'llegar', 'a', 'visitar', 'grandioso', 'construcción', 'vestir', 'imagen', 'y', 'video', '😭']]\n"
     ]
    }
   ],
   "source": [
    "tweets_prueba=[\"Cada vez, el rechazo a la opciones radicales es más grande 🇪🇸#ElecccionesGenerales28A #28A\", \n",
    "               \"#NotreDame nunca llegue a visitar tan grandiosa construcción. Solo vista en imágenes y videos.. 😭\"]\n",
    "lista_tweets_clean=basic_processing(tweets_prueba)\n",
    "print(lista_twee)"
   ]
  },
  {
   "cell_type": "code",
   "execution_count": null,
   "id": "05fe33c4-87be-4fa3-bbfa-78cb9f5f8bf7",
   "metadata": {},
   "outputs": [],
   "source": []
  }
 ],
 "metadata": {
  "kernelspec": {
   "display_name": "Python 3",
   "language": "python",
   "name": "python3"
  },
  "language_info": {
   "codemirror_mode": {
    "name": "ipython",
    "version": 3
   },
   "file_extension": ".py",
   "mimetype": "text/x-python",
   "name": "python",
   "nbconvert_exporter": "python",
   "pygments_lexer": "ipython3",
   "version": "3.8.8"
  }
 },
 "nbformat": 4,
 "nbformat_minor": 5
}
